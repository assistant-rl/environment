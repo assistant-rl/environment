{
 "cells": [
  {
   "cell_type": "code",
   "execution_count": 2,
   "metadata": {},
   "outputs": [],
   "source": [
    "from matplotlib import pyplot as plt \n",
    "import pandas as pd \n",
    "import seaborn as sns\n"
   ]
  },
  {
   "cell_type": "code",
   "execution_count": 8,
   "metadata": {},
   "outputs": [
    {
     "data": {
      "text/plain": [
       "Index(['mode', ' accuracy', 'test_set', 'num_vars'], dtype='object')"
      ]
     },
     "execution_count": 8,
     "metadata": {},
     "output_type": "execute_result"
    }
   ],
   "source": [
    "# chat_accs = [0.125,0.02734375, 0.01]\n",
    "# codex_accs = [0.07692307692307693,0.023, 0.02]\n",
    "accs = pd.read_csv('data/coarse_logs.txt')\n",
    "nums = {'one':1,'two':2,'three':3}\n",
    "accs['num_vars'] = accs.test_set.apply(lambda x: nums[x.lower().strip()])\n",
    "accs.columns"
   ]
  },
  {
   "cell_type": "code",
   "execution_count": 11,
   "metadata": {},
   "outputs": [
    {
     "data": {
      "text/plain": [
       "Index(['mode', ' accuracy', 'test_set', 'num_vars'], dtype='object')"
      ]
     },
     "execution_count": 11,
     "metadata": {},
     "output_type": "execute_result"
    }
   ],
   "source": [
    "chat_accs = accs[accs['mode'] == 'chat']\n",
    "codex_accs = accs[accs['mode'] == 'edit']\n",
    "chat_accs.columns"
   ]
  },
  {
   "cell_type": "code",
   "execution_count": null,
   "metadata": {},
   "outputs": [],
   "source": [
    "\n",
    "plt.plot(chat_accs['num_vars'],chat_accs['accuracy'])\n",
    "plt.plot(codex_accs['num_vars'],codex_accs['accuracy'])\n",
    "plt.title('chat gpt accuracy vs number of variables')\n",
    "plt.xlabel('numer of variables')\n",
    "plt.ylabel('accuracy')\n",
    "plt.legend(['GPT 3.5','Codex'])\n",
    "plt.show()"
   ]
  },
  {
   "cell_type": "code",
   "execution_count": null,
   "metadata": {},
   "outputs": [],
   "source": []
  }
 ],
 "metadata": {
  "kernelspec": {
   "display_name": "baselines",
   "language": "python",
   "name": "python3"
  },
  "language_info": {
   "codemirror_mode": {
    "name": "ipython",
    "version": 3
   },
   "file_extension": ".py",
   "mimetype": "text/x-python",
   "name": "python",
   "nbconvert_exporter": "python",
   "pygments_lexer": "ipython3",
   "version": "3.10.9"
  },
  "orig_nbformat": 4
 },
 "nbformat": 4,
 "nbformat_minor": 2
}
